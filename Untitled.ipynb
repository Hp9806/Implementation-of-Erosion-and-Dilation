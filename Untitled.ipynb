{
 "cells": [
  {
   "cell_type": "code",
   "execution_count": 1,
   "id": "39488407",
   "metadata": {},
   "outputs": [],
   "source": [
    "import cv2\n",
    "import numpy as np\n",
    "import matplotlib.pyplot as plt"
   ]
  },
  {
   "cell_type": "code",
   "execution_count": 2,
   "id": "7c7687d6",
   "metadata": {},
   "outputs": [],
   "source": [
    "image= np.zeros((100,400),dtype='uint8')\n",
    "font = cv2.FONT_HERSHEY_SIMPLEX\n",
    "cv2.putText(image,'HARISH',(5,70), font,2,(255),5,cv2.LINE_AA)\n",
    "cv2.imshow(\"Name\",image)"
   ]
  },
  {
   "cell_type": "code",
   "execution_count": 3,
   "id": "a8539687",
   "metadata": {},
   "outputs": [],
   "source": [
    "kernel1 = cv2.getStructuringElement(cv2.MORPH_CROSS,(7,7))"
   ]
  },
  {
   "cell_type": "code",
   "execution_count": 4,
   "id": "90f92bb9",
   "metadata": {},
   "outputs": [],
   "source": [
    "erodeImage = cv2.erode(image,kernel1)\n",
    "cv2.imshow(\"Erode Image\",erodeImage)"
   ]
  },
  {
   "cell_type": "code",
   "execution_count": null,
   "id": "4191329b",
   "metadata": {},
   "outputs": [],
   "source": [
    "dilationImage = cv2.dilate(image,kernel1)\n",
    "cv2.imshow(\"Dilated Image\",dilationImage)\n",
    "\n",
    "\n",
    "\n",
    "cv2.waitKey(0)\n",
    "cv2.DestroyAllWindows"
   ]
  },
  {
   "cell_type": "code",
   "execution_count": null,
   "id": "940dbee4",
   "metadata": {},
   "outputs": [],
   "source": []
  }
 ],
 "metadata": {
  "kernelspec": {
   "display_name": "Python 3 (ipykernel)",
   "language": "python",
   "name": "python3"
  },
  "language_info": {
   "codemirror_mode": {
    "name": "ipython",
    "version": 3
   },
   "file_extension": ".py",
   "mimetype": "text/x-python",
   "name": "python",
   "nbconvert_exporter": "python",
   "pygments_lexer": "ipython3",
   "version": "3.9.7"
  }
 },
 "nbformat": 4,
 "nbformat_minor": 5
}
